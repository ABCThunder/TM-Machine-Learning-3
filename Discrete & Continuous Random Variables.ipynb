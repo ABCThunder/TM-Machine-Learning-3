{
 "cells": [
  {
   "cell_type": "code",
   "execution_count": 4,
   "metadata": {},
   "outputs": [],
   "source": [
    "import pandas as pd\n",
    "import numpy as np"
   ]
  },
  {
   "cell_type": "markdown",
   "metadata": {},
   "source": [
    "# Goal: Get Mean and Variance for Discrete Random Variable and Continuous Random Variable"
   ]
  },
  {
   "cell_type": "markdown",
   "metadata": {},
   "source": [
    "Discrete Random Variable:\n",
    "- Distinct / separatable values\n",
    "- Typically earned by counting\n",
    "\n",
    "Price, Minimum Nights, Number of reviews, Calculated host listings count, Availability_365\n",
    "\n",
    "\n",
    "\n",
    "Continuous Random Variable:\n",
    "- Any value in an interval\n",
    "- Typically earned by measuring\n",
    "\n",
    "Latitude, Longitude, Reviews per month\n"
   ]
  },
  {
   "cell_type": "markdown",
   "metadata": {},
   "source": [
    "# DataFrame Initialization"
   ]
  },
  {
   "cell_type": "code",
   "execution_count": 5,
   "metadata": {
    "scrolled": false
   },
   "outputs": [
    {
     "name": "stdout",
     "output_type": "stream",
     "text": [
      "id                                  int64\n",
      "name                               object\n",
      "host_id                             int64\n",
      "host_name                          object\n",
      "neighbourhood_group                object\n",
      "neighbourhood                      object\n",
      "latitude                          float64\n",
      "longitude                         float64\n",
      "room_type                          object\n",
      "price                               int64\n",
      "minimum_nights                      int64\n",
      "number_of_reviews                   int64\n",
      "last_review                        object\n",
      "reviews_per_month                 float64\n",
      "calculated_host_listings_count      int64\n",
      "availability_365                    int64\n",
      "dtype: object\n",
      "True\n"
     ]
    }
   ],
   "source": [
    "bnb = pd.read_csv(\"listings.csv\")\n",
    "print(bnb.dtypes)\n",
    "print(bnb.isna().values.any())"
   ]
  },
  {
   "cell_type": "markdown",
   "metadata": {},
   "source": [
    "# Removing Rows with NaN values"
   ]
  },
  {
   "cell_type": "code",
   "execution_count": 6,
   "metadata": {
    "scrolled": true
   },
   "outputs": [
    {
     "name": "stdout",
     "output_type": "stream",
     "text": [
      "      id                                 name  host_id  host_name  \\\n",
      "0  49091    COZICOMFORT LONG TERM STAY ROOM 2   266763  Francesca   \n",
      "1  50646      Pleasant Room along Bukit Timah   227796    Sujatha   \n",
      "2  56334                          COZICOMFORT   266763  Francesca   \n",
      "3  71609  Ensuite Room (Room 1 & 2) near EXPO   367042    Belinda   \n",
      "4  71896      B&B  Room 1 near Airport & EXPO   367042    Belinda   \n",
      "\n",
      "  neighbourhood_group neighbourhood  latitude  longitude     room_type  price  \\\n",
      "0        North Region     Woodlands   1.44255  103.79580  Private room     83   \n",
      "1      Central Region   Bukit Timah   1.33235  103.78521  Private room     81   \n",
      "2        North Region     Woodlands   1.44246  103.79667  Private room     69   \n",
      "3         East Region      Tampines   1.34541  103.95712  Private room    206   \n",
      "4         East Region      Tampines   1.34567  103.95963  Private room     94   \n",
      "\n",
      "   minimum_nights  number_of_reviews last_review  reviews_per_month  \\\n",
      "0             180                  1  2013-10-21               0.01   \n",
      "1              90                 18  2014-12-26               0.28   \n",
      "2               6                 20  2015-10-01               0.20   \n",
      "3               1                 14  2019-08-11               0.15   \n",
      "4               1                 22  2019-07-28               0.22   \n",
      "\n",
      "   calculated_host_listings_count  availability_365  \n",
      "0                               2               365  \n",
      "1                               1               365  \n",
      "2                               2               365  \n",
      "3                               9               353  \n",
      "4                               9               355  \n",
      "5148\n"
     ]
    }
   ],
   "source": [
    "bnb=bnb.dropna()\n",
    "print(bnb.head(5))"
   ]
  },
  {
   "cell_type": "markdown",
   "metadata": {},
   "source": [
    "# Discrete Random Variables\n",
    "\n",
    "When you rearrange the equation, it should be the same a regular mean equation (add each value then divide the sum to the amount of data (occurence in terms of probability)) (?)"
   ]
  },
  {
   "cell_type": "code",
   "execution_count": 39,
   "metadata": {},
   "outputs": [
    {
     "name": "stdout",
     "output_type": "stream",
     "text": [
      "price    151.311189\n",
      "dtype: float64\n",
      "minimum_nights    12.465229\n",
      "dtype: float64\n",
      "number_of_reviews    19.670552\n",
      "dtype: float64\n",
      "calculated_host_listings_count    35.222222\n",
      "dtype: float64\n",
      "availability_365    201.144716\n",
      "dtype: float64\n"
     ]
    }
   ],
   "source": [
    "a=bnb[['price']].sum()/bnb.shape[0]\n",
    "b=bnb[['minimum_nights']].sum()/bnb.shape[0]\n",
    "c=bnb[['number_of_reviews']].sum()/bnb.shape[0]\n",
    "d=bnb[['calculated_host_listings_count']].sum()/bnb.shape[0]\n",
    "e=bnb[['availability_365']].sum()/bnb.shape[0]\n",
    "\n",
    "\n",
    "print(a)\n",
    "print(b)\n",
    "print(c)\n",
    "print(d)\n",
    "print(e)\n",
    "\n"
   ]
  },
  {
   "cell_type": "markdown",
   "metadata": {},
   "source": [
    "and then this idiot forgot that df.mean() exists, so..."
   ]
  },
  {
   "cell_type": "code",
   "execution_count": 40,
   "metadata": {},
   "outputs": [
    {
     "name": "stdout",
     "output_type": "stream",
     "text": [
      "Mean for the DRMs are\n",
      "price                             151.311189\n",
      "minimum_nights                     12.465229\n",
      "number_of_reviews                  19.670552\n",
      "calculated_host_listings_count     35.222222\n",
      "availability_365                  201.144716\n",
      "dtype: float64\n"
     ]
    }
   ],
   "source": [
    "discrete=bnb[['price','minimum_nights','number_of_reviews','calculated_host_listings_count','availability_365']]\n",
    "\n",
    "print('Mean for the DRMs are\\n')\n",
    "print(discrete.mean())"
   ]
  },
  {
   "cell_type": "markdown",
   "metadata": {},
   "source": [
    "for Variance, pandas provides the DataFrame.var() function"
   ]
  },
  {
   "cell_type": "code",
   "execution_count": 41,
   "metadata": {
    "scrolled": true
   },
   "outputs": [
    {
     "name": "stdout",
     "output_type": "stream",
     "text": [
      "Variance for the DRMs are\n",
      "\n",
      "price                             64428.489892\n",
      "minimum_nights                     1050.622261\n",
      "number_of_reviews                  1220.611085\n",
      "calculated_host_listings_count     3615.718239\n",
      "availability_365                  20345.944664\n",
      "dtype: float64\n"
     ]
    }
   ],
   "source": [
    "print('Variance for the DRMs are\\n')\n",
    "print(discrete.var())"
   ]
  },
  {
   "cell_type": "markdown",
   "metadata": {},
   "source": [
    "# Continuous Random Variables\n",
    "\n",
    "The Mean and Variance probably should be the same as the Discrete ones (?)"
   ]
  },
  {
   "cell_type": "code",
   "execution_count": 43,
   "metadata": {},
   "outputs": [
    {
     "name": "stdout",
     "output_type": "stream",
     "text": [
      "Mean for the CRMs are\n",
      "\n",
      "latitude               1.313295\n",
      "longitude            103.849818\n",
      "reviews_per_month      1.043854\n",
      "dtype: float64\n"
     ]
    }
   ],
   "source": [
    "continuous = bnb[['latitude','longitude','reviews_per_month']]\n",
    "\n",
    "print('Mean for the CRMs are\\n')\n",
    "print(continuous.mean())"
   ]
  },
  {
   "cell_type": "code",
   "execution_count": 44,
   "metadata": {},
   "outputs": [
    {
     "name": "stdout",
     "output_type": "stream",
     "text": [
      "Variance for the CRMs are\n",
      "\n",
      "latitude             0.000858\n",
      "longitude            0.001914\n",
      "reviews_per_month    1.653558\n",
      "dtype: float64\n"
     ]
    }
   ],
   "source": [
    "continuous = bnb[['latitude','longitude','reviews_per_month']]\n",
    "\n",
    "print('Variance for the CRMs are\\n')\n",
    "print(continuous.var())"
   ]
  },
  {
   "cell_type": "markdown",
   "metadata": {},
   "source": [
    "# Source:\n",
    "\n",
    "- http://www.henry.k12.ga.us/ugh/apstat/chapternotes/7supplement.html\n",
    "- https://www.khanacademy.org/math/statistics-probability/random-variables-stats-library/random-variables-discrete/v/discrete-and-continuous-random-variables"
   ]
  }
 ],
 "metadata": {
  "kernelspec": {
   "display_name": "Python 3",
   "language": "python",
   "name": "python3"
  },
  "language_info": {
   "codemirror_mode": {
    "name": "ipython",
    "version": 3
   },
   "file_extension": ".py",
   "mimetype": "text/x-python",
   "name": "python",
   "nbconvert_exporter": "python",
   "pygments_lexer": "ipython3",
   "version": "3.7.4"
  }
 },
 "nbformat": 4,
 "nbformat_minor": 2
}
